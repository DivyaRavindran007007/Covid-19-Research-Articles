{
 "cells": [
  {
   "cell_type": "markdown",
   "metadata": {},
   "source": [
    "### Extract ICD10 codings and Drug entities from CORD19 research articles\n",
    "\n",
    "#### Group Project: Group 4 (Brad, Divya, Rameez, Reshma)\n",
    "\n",
    "#### Dataset link : https://www.kaggle.com/allen-institute-for-ai/CORD-19-research-challenge"
   ]
  },
  {
   "cell_type": "markdown",
   "metadata": {},
   "source": [
    "### SparkNLP References:\n",
    "   * https://github.com/JohnSnowLabs/spark-nlp-workshop/tree/master/tutorials"
   ]
  },
  {
   "cell_type": "markdown",
   "metadata": {},
   "source": [
    "### Software version to install"
   ]
  },
  {
   "cell_type": "code",
   "execution_count": 2,
   "metadata": {},
   "outputs": [],
   "source": [
    "import os"
   ]
  },
  {
   "cell_type": "code",
   "execution_count": 3,
   "metadata": {},
   "outputs": [],
   "source": [
    "! apt-get update -qq"
   ]
  },
  {
   "cell_type": "code",
   "execution_count": 4,
   "metadata": {},
   "outputs": [],
   "source": [
    "! apt-get install -y openjdk-8-jdk-headless -qq > /dev/null"
   ]
  },
  {
   "cell_type": "code",
   "execution_count": 5,
   "metadata": {},
   "outputs": [],
   "source": [
    "os.environ[\"JAVA_HOME\"] = \"/usr/lib/jvm/java-8-openjdk-amd64\"\n",
    "os.environ[\"PATH\"] = os.environ[\"JAVA_HOME\"] + \"/bin:\" + os.environ[\"PATH\"]"
   ]
  },
  {
   "cell_type": "code",
   "execution_count": 6,
   "metadata": {},
   "outputs": [
    {
     "name": "stdout",
     "output_type": "stream",
     "text": [
      "openjdk version \"1.8.0_265\"\r\n",
      "OpenJDK Runtime Environment (build 1.8.0_265-8u265-b01-0ubuntu2~18.04-b01)\r\n",
      "OpenJDK 64-Bit Server VM (build 25.265-b01, mixed mode)\r\n"
     ]
    }
   ],
   "source": [
    "! java -version"
   ]
  },
  {
   "cell_type": "code",
   "execution_count": 7,
   "metadata": {},
   "outputs": [],
   "source": [
    "license_keys = {'SECRET': 'xxxxxxxxxxxxxxxxxxxxxxxxxxxxxx',\n",
    " 'SPARK_NLP_LICENSE': 'xxxxxxxxxxxxxxxxxxxxxxxxxxxxxxxxx',\n",
    " 'AWS_ACCESS_KEY_ID': 'xxxxxxxxxxxxxxx',\n",
    " 'AWS_SECRET_ACCESS_KEY': 'xxxxxxxxxxxxxxxxxxxxxx'}"
   ]
  },
  {
   "cell_type": "code",
   "execution_count": 8,
   "metadata": {},
   "outputs": [],
   "source": [
    "secret = license_keys['SECRET']\n",
    "os.environ['SPARK_NLP_LICENSE'] = license_keys['SPARK_NLP_LICENSE']\n",
    "os.environ['AWS_ACCESS_KEY_ID']= license_keys['AWS_ACCESS_KEY_ID']\n",
    "os.environ['AWS_SECRET_ACCESS_KEY'] = license_keys['AWS_SECRET_ACCESS_KEY']\n",
    "jsl_version = '2.5.5'\n",
    "version = '2.5.5'"
   ]
  },
  {
   "cell_type": "code",
   "execution_count": 9,
   "metadata": {},
   "outputs": [],
   "source": [
    "!pip install --ignore-installed -q pyspark==2.4.4"
   ]
  },
  {
   "cell_type": "code",
   "execution_count": 10,
   "metadata": {},
   "outputs": [
    {
     "name": "stdout",
     "output_type": "stream",
     "text": [
      "Looking in indexes: https://pypi.org/simple, https://pypi.johnsnowlabs.com/2.5.5-9418714c2732a91f4b4d0181ae277931a226068e\n",
      "Requirement already up-to-date: spark-nlp-jsl==2.5.5 in /opt/conda/anaconda/lib/python3.6/site-packages (2.5.5)\n",
      "Requirement already satisfied, skipping upgrade: spark-nlp==2.5.5 in /opt/conda/anaconda/lib/python3.6/site-packages (from spark-nlp-jsl==2.5.5) (2.5.5)\n"
     ]
    }
   ],
   "source": [
    "!python -m pip install --upgrade spark-nlp-jsl==$jsl_version  --extra-index-url https://pypi.johnsnowlabs.com/$secret"
   ]
  },
  {
   "cell_type": "code",
   "execution_count": 11,
   "metadata": {},
   "outputs": [],
   "source": [
    "!pip install --ignore-installed -q spark-nlp==$version"
   ]
  },
  {
   "cell_type": "markdown",
   "metadata": {},
   "source": [
    "### Load pySpark and SparkNLP packages"
   ]
  },
  {
   "cell_type": "code",
   "execution_count": 12,
   "metadata": {},
   "outputs": [],
   "source": [
    "import sys, os, time\n",
    "from sparknlp.base import *\n",
    "from sparknlp.annotator import *\n",
    "from sparknlp.util import *\n",
    "from sparknlp_jsl.annotator import *\n",
    "\n",
    "from sparknlp.pretrained import ResourceDownloader\n",
    "from pyspark.sql.functions import *\n",
    "from pyspark.sql import functions as F\n",
    "from pyspark.ml import Pipeline, PipelineModel\n",
    "import sparknlp_jsl\n",
    "\n",
    "spark = sparknlp_jsl.start(secret)"
   ]
  },
  {
   "cell_type": "markdown",
   "metadata": {},
   "source": [
    "### Define SparkNLP Clinical Pipelines"
   ]
  },
  {
   "cell_type": "markdown",
   "metadata": {},
   "source": [
    "#### Common Pipeline - Clinical NER Pipeline creation"
   ]
  },
  {
   "cell_type": "code",
   "execution_count": 14,
   "metadata": {},
   "outputs": [
    {
     "name": "stdout",
     "output_type": "stream",
     "text": [
      "embeddings_clinical download started this may take some time.\n",
      "Approximate size to download 1.6 GB\n",
      "[OK!]\n"
     ]
    }
   ],
   "source": [
    "# Annotator that transforms a text column from dataframe into an Annotation ready for NLP\n",
    "\n",
    "documentAssembler = DocumentAssembler()\\\n",
    "  .setInputCol(\"text\")\\\n",
    "  .setOutputCol(\"document\")\n",
    "\n",
    "# Sentence Detector annotator, processes various sentences per line\n",
    "\n",
    "sentenceDetector = SentenceDetector()\\\n",
    "  .setInputCols([\"document\"])\\\n",
    "  .setOutputCol(\"sentence\")\\\n",
    "  .setCustomBounds([\",\"])\n",
    "\n",
    "# Tokenizer splits words in a relevant format for NLP\n",
    "\n",
    "tokenizer = Tokenizer()\\\n",
    "  .setInputCols([\"sentence\"])\\\n",
    "  .setOutputCol(\"raw_token\")\\\n",
    "  .setSplitChars([\" \",\",\",\"\\(\",\"\\)\"])\n",
    "\n",
    "# Tokenizer splits words in a relevant format for NLP\n",
    "\n",
    "stopwords = StopWordsCleaner()\\\n",
    "  .setInputCols([\"raw_token\"])\\\n",
    "  .setOutputCol(\"token\")\n",
    "\n",
    "# WordEmbeddingsModel pretrained \"embeddings_clinical\" includes a model of 1.6Gb that needs to be downloaded\n",
    "\n",
    "word_embeddings = WordEmbeddingsModel.pretrained(\"embeddings_clinical\", \"en\", \"clinical/models\")\\\n",
    "  .setInputCols([\"sentence\", \"token\"])\\\n",
    "  .setOutputCol(\"embeddings\")\n",
    "\n",
    "ner_converter = NerConverterInternal() \\\n",
    "  .setInputCols([\"sentence\", \"token\", \"ner\"]) \\\n",
    "  .setOutputCol(\"greedy_chunk\")\\\n",
    "  .setWhiteList(['TREATMENT'])\n",
    "\n",
    "chunk_embeddings = ChunkEmbeddings()\\\n",
    "    .setInputCols(\"greedy_chunk\", \"embeddings\")\\\n",
    "    .setOutputCol(\"chunk_embeddings\")"
   ]
  },
  {
   "cell_type": "markdown",
   "metadata": {},
   "source": [
    "#### Pipeline 1 - ICD 10 CM"
   ]
  },
  {
   "cell_type": "code",
   "execution_count": null,
   "metadata": {},
   "outputs": [],
   "source": [
    "# Entity Resolution Pretrained Models icd10 cm\n",
    "icd10cmResolver2 = ChunkEntityResolverModel.pretrained('chunkresolve_icd10cm_diseases_clinical', 'en', \"clinical/models\")\\\n",
    "    .setEnableLevenshtein(True)\\\n",
    "    .setNeighbours(200).setAlternatives(5).setDistanceWeights([3,3,2,0,0,7])\\\n",
    "    .setInputCols('token', 'chunk_embs_jsl')\\\n",
    "    .setOutputCol('icd10cm_resolution')"
   ]
  },
  {
   "cell_type": "markdown",
   "metadata": {},
   "source": [
    "#### Pipeline 2 - ICD 10 PCS"
   ]
  },
  {
   "cell_type": "code",
   "execution_count": null,
   "metadata": {},
   "outputs": [],
   "source": [
    "# Entity Resolution Pretrained Models icd10 pcs\n",
    "icd10pcsResolver2 = ChunkEntityResolverModel.pretrained('chunkresolve_icd10pcs_clinical', 'en', \"clinical/models\")\\\n",
    "    .setEnableLevenshtein(True)\\\n",
    "    .setNeighbours(200).setAlternatives(5).setDistanceWeights([3,3,2,0,0,7])\\\n",
    "    .setInputCols('token', 'chunk_embs_jsl')\\\n",
    "    .setOutputCol('icd10pcs_resolution')"
   ]
  },
  {
   "cell_type": "markdown",
   "metadata": {},
   "source": [
    "#### Pipeline 3 - Drug - RxNorm"
   ]
  },
  {
   "cell_type": "code",
   "execution_count": 15,
   "metadata": {},
   "outputs": [
    {
     "name": "stdout",
     "output_type": "stream",
     "text": [
      "chunkresolve_rxnorm_sbd_clinical download started this may take some time.\n",
      "Approximate size to download 17.9 MB\n",
      "[OK!]\n",
      "ner_posology download started this may take some time.\n",
      "Approximate size to download 13.7 MB\n",
      "[OK!]\n"
     ]
    }
   ],
   "source": [
    "rxnorm_resolver1 = ChunkEntityResolverModel()\\\n",
    "    .pretrained('chunkresolve_rxnorm_sbd_clinical', 'en', \"clinical/models\")\\\n",
    "    .setEnableLevenshtein(True)\\\n",
    "    .setNeighbours(200).setAlternatives(5).setDistanceWeights([3,11,0,0,0,9])\\\n",
    "    .setInputCols('token', 'chunk_embeddings')\\\n",
    "    .setOutputCol('rxnorm_resolution')\\\n",
    "    .setPoolingStrategy(\"MAX\")\n",
    "\n",
    "posology_ner = NerDLModel.pretrained(\"ner_posology\", \"en\", \"clinical/models\") \\\n",
    "  .setInputCols([\"sentence\", \"token\", \"embeddings\"]) \\\n",
    "  .setOutputCol(\"ner\")\n",
    "\n",
    "ner_converter1 = NerConverterInternal() \\\n",
    "  .setInputCols([\"sentence\", \"token\", \"ner\"]) \\\n",
    "  .setOutputCol(\"ner_chunk\")\n",
    "\n",
    "chunk_merge = ChunkMergeApproach().setInputCols(\"ner_chunk\",\"ner_chunk\").setOutputCol(\"merged_chunk\")\\\n",
    "  .setReplaceDictResource(\"replace_dict.csv\",\"TEXT\", {\"delimiter\":\",\"})\n",
    "\n",
    "iob_tagger = IOBTagger().setInputCols(\"token\",\"merged_chunk\").setOutputCol(\"merged_ner\")\n",
    "\n",
    "ner_converter2 = NerConverterInternal() \\\n",
    "  .setInputCols([\"sentence\", \"token\", \"merged_ner\"]) \\\n",
    "  .setOutputCol(\"greedy_chunk\")\\\n",
    "  .setPreservePosition(False)\\\n",
    "  .setGreedyMode(True)\\\n",
    "  .setWhiteList(['DRUG'])\n",
    "\n",
    "# Annotators responsible for the Cancer Genetics Entity Recognition task\n",
    "jslNer = NerDLModel.pretrained('ner_jsl', 'en', \"clinical/models\")\\\n",
    "    .setInputCols('sentence', 'token', 'embeddings')\\\n",
    "    .setOutputCol('ner_jsl')\n",
    "\n",
    "drugNer = NerDLModel.pretrained('ner_drugs', 'en', \"clinical/models\")\\\n",
    "    .setInputCols('sentence', 'token', 'embeddings')\\\n",
    "    .setOutputCol('ner_drug')\n",
    "\n",
    "#Converter annotators transform IOB tags into full chunks (sequence set of tokens) tagged with `entity` metadata\n",
    "jslConverter = NerConverter()\\\n",
    "    .setInputCols('sentence', 'token', 'ner_jsl')\\\n",
    "    .setOutputCol('chunk_jsl')\\\n",
    "    .setWhiteList([\"Diagnosis\"])\n",
    "\n",
    "drugConverter = NerConverter()\\\n",
    "    .setInputCols('sentence', 'token', 'ner_drug')\\\n",
    "    .setOutputCol('chunk_drug')\n",
    "\n",
    "#ChunkEmbeddings annotators aggregate embeddings for each token in the chunk\n",
    "jslChunkEmbeddings = ChunkEmbeddings()\\\n",
    "  .setInputCols('chunk_jsl', 'embeddings')\\\n",
    "  .setOutputCol('chunk_embs_jsl')\n",
    "\n",
    "drugChunkEmbeddings = ChunkEmbeddings()\\\n",
    "  .setInputCols('chunk_drug', 'embeddings')\\\n",
    "  .setOutputCol('chunk_embs_drug')\n",
    "\n",
    "rxnormResolver2 = ChunkEntityResolverModel()\\\n",
    "    .pretrained('chunkresolve_rxnorm_scd_clinical', 'en', \"clinical/models\")\\\n",
    "    .setEnableLevenshtein(True)\\\n",
    "    .setNeighbours(200).setAlternatives(5).setDistanceWeights([3,3,2,0,0,7])\\\n",
    "    .setInputCols('token', 'chunk_embs_drug')\\\n",
    "    .setOutputCol('rxnorm_resolution')\\"
   ]
  },
  {
   "cell_type": "markdown",
   "metadata": {},
   "source": [
    "### Assembled Pipeline"
   ]
  },
  {
   "cell_type": "markdown",
   "metadata": {},
   "source": [
    "#### Assemble pipeline 1: ICD10 CM + RxNorm"
   ]
  },
  {
   "cell_type": "code",
   "execution_count": 20,
   "metadata": {},
   "outputs": [],
   "source": [
    "pipelineicdrx = Pipeline().setStages([\n",
    "    documentAssembler, \n",
    "    sentenceDetector, \n",
    "    tokenizer, \n",
    "    stopwords, \n",
    "    word_embeddings, \n",
    "    jslNer,\n",
    "    drugNer,\n",
    "    jslConverter,\n",
    "    drugConverter,\n",
    "    jslChunkEmbeddings, \n",
    "    drugChunkEmbeddings,\n",
    "    icd10cmResolver2,\n",
    "    rxnormResolver2\n",
    "])"
   ]
  },
  {
   "cell_type": "markdown",
   "metadata": {},
   "source": [
    "#### Assemble pipeline 2: ICD10 PCS + RxNorm"
   ]
  },
  {
   "cell_type": "code",
   "execution_count": null,
   "metadata": {},
   "outputs": [],
   "source": [
    "pipelinepcsrx = Pipeline().setStages([\n",
    "    documentAssembler, \n",
    "    sentenceDetector, \n",
    "    tokenizer, \n",
    "    stopwords, \n",
    "    word_embeddings, \n",
    "    jslNer,\n",
    "    drugNer,\n",
    "    jslConverter,\n",
    "    drugConverter,\n",
    "    jslChunkEmbeddings, \n",
    "    drugChunkEmbeddings,\n",
    "    icd10pcsResolver2,\n",
    "    rxnormResolver2\n",
    "])"
   ]
  },
  {
   "cell_type": "markdown",
   "metadata": {},
   "source": [
    "### Functions "
   ]
  },
  {
   "cell_type": "code",
   "execution_count": 21,
   "metadata": {},
   "outputs": [],
   "source": [
    "def quick_metadata_analysis(df, doc_field, chunk_field, code_fields):\n",
    "    code_res_meta = \", \".join([f\"{cf}.metadata\" for cf in code_fields])\n",
    "    expression = f\"explode(arrays_zip({chunk_field}.begin, {chunk_field}.end, {chunk_field}.result, {chunk_field}.metadata, \"+code_res_meta+\")) as a\"\n",
    "    top_n_rest = [(f\"float(a['{i+4}'].confidence) as {(cf.split('_')[0])}_conf\",\n",
    "                    f\"arrays_zip(split(a['{i+4}'].all_k_results,':::'),split(a['{i+4}'].all_k_resolutions,':::')) as {cf.split('_')[0]+'_opts'}\")\n",
    "                    for i, cf in enumerate(code_fields)]\n",
    "    top_n_rest_args = []\n",
    "    for tr in top_n_rest:\n",
    "        for t in tr:\n",
    "            top_n_rest_args.append(t)\n",
    "    return df.selectExpr(doc_field, expression) \\\n",
    "        .orderBy('doc_id', F.expr(\"a['0']\"), F.expr(\"a['1']\"))\\\n",
    "        .selectExpr(f\"concat_ws('::',{doc_field},a['0'],a['1']) as coords\", \"a['2'] as chunk\",\"a['3'].entity as entity\", *top_n_rest_args)"
   ]
  },
  {
   "cell_type": "markdown",
   "metadata": {},
   "source": [
    "## Load Data"
   ]
  },
  {
   "cell_type": "code",
   "execution_count": 26,
   "metadata": {},
   "outputs": [],
   "source": [
    "data = spark.read.csv('gs://cord-19-group-4/google-cloud-dataproc-metainfo/cord19_V2.csv', header=True).repartition(4)"
   ]
  },
  {
   "cell_type": "markdown",
   "metadata": {},
   "source": [
    "### Filtering out null abstracts and body_text"
   ]
  },
  {
   "cell_type": "code",
   "execution_count": null,
   "metadata": {},
   "outputs": [],
   "source": [
    "data_abstract = data.filter(data.abstract.isNotNull())\n",
    "data_abstract = data_abstract.sample(0.005)"
   ]
  },
  {
   "cell_type": "code",
   "execution_count": 27,
   "metadata": {},
   "outputs": [],
   "source": [
    "data_body_text = data.filter(data.body_text.isNotNull())\n",
    "data_body_text = data_body_text.sample(0.05)"
   ]
  },
  {
   "cell_type": "code",
   "execution_count": 28,
   "metadata": {},
   "outputs": [],
   "source": [
    "data_abstract_part = data_abstract.select('cord_uid', 'abstract').toDF('doc_id', 'text')"
   ]
  },
  {
   "cell_type": "code",
   "execution_count": 29,
   "metadata": {},
   "outputs": [],
   "source": [
    "data_body_part     = data_body_text.select('cord_uid', 'body_text').toDF('doc_id', 'text')"
   ]
  },
  {
   "cell_type": "markdown",
   "metadata": {},
   "source": [
    "### Call Pipelines"
   ]
  },
  {
   "cell_type": "code",
   "execution_count": 30,
   "metadata": {},
   "outputs": [],
   "source": [
    "icdPipeline  = pipelineicdrx.fit(data_abstract_part)\n",
    "output_icd   = icdPipeline.transform(data_abstract_part)"
   ]
  },
  {
   "cell_type": "code",
   "execution_count": 31,
   "metadata": {},
   "outputs": [],
   "source": [
    "drugPipeline = pipelineicdrx.fit(data_body_part)\n",
    "output_drug  = drugPipeline.transform(data_body_part)"
   ]
  },
  {
   "cell_type": "code",
   "execution_count": null,
   "metadata": {},
   "outputs": [],
   "source": [
    "pcsPipeline  = pipelinepcsrx.fit(data_abstract_part)\n",
    "output_pcs   = pcsPipeline.transform(data_abstract_part)"
   ]
  },
  {
   "cell_type": "code",
   "execution_count": null,
   "metadata": {},
   "outputs": [],
   "source": [
    "drugpcsPipeline  = pipelinepcsrx.fit(data_body_part)\n",
    "output_drug_pcs   = icdPipeline.transform(data_body_part)"
   ]
  },
  {
   "cell_type": "markdown",
   "metadata": {},
   "source": [
    "### ICD10 CM + rxNorm Analysis"
   ]
  },
  {
   "cell_type": "code",
   "execution_count": 32,
   "metadata": {},
   "outputs": [
    {
     "data": {
      "text/plain": [
       "DataFrame[doc_id: string, text: string, document: array<struct<annotatorType:string,begin:int,end:int,result:string,metadata:map<string,string>,embeddings:array<float>>>, sentence: array<struct<annotatorType:string,begin:int,end:int,result:string,metadata:map<string,string>,embeddings:array<float>>>, raw_token: array<struct<annotatorType:string,begin:int,end:int,result:string,metadata:map<string,string>,embeddings:array<float>>>, token: array<struct<annotatorType:string,begin:int,end:int,result:string,metadata:map<string,string>,embeddings:array<float>>>, embeddings: array<struct<annotatorType:string,begin:int,end:int,result:string,metadata:map<string,string>,embeddings:array<float>>>, ner_jsl: array<struct<annotatorType:string,begin:int,end:int,result:string,metadata:map<string,string>,embeddings:array<float>>>, ner_drug: array<struct<annotatorType:string,begin:int,end:int,result:string,metadata:map<string,string>,embeddings:array<float>>>, chunk_jsl: array<struct<annotatorType:string,begin:int,end:int,result:string,metadata:map<string,string>,embeddings:array<float>>>, chunk_drug: array<struct<annotatorType:string,begin:int,end:int,result:string,metadata:map<string,string>,embeddings:array<float>>>, chunk_embs_jsl: array<struct<annotatorType:string,begin:int,end:int,result:string,metadata:map<string,string>,embeddings:array<float>>>, chunk_embs_drug: array<struct<annotatorType:string,begin:int,end:int,result:string,metadata:map<string,string>,embeddings:array<float>>>, icd10cm_resolution: array<struct<annotatorType:string,begin:int,end:int,result:string,metadata:map<string,string>,embeddings:array<float>>>, rxnorm_resolution: array<struct<annotatorType:string,begin:int,end:int,result:string,metadata:map<string,string>,embeddings:array<float>>>]"
      ]
     },
     "execution_count": 32,
     "metadata": {},
     "output_type": "execute_result"
    }
   ],
   "source": [
    "output_icd.cache()"
   ]
  },
  {
   "cell_type": "code",
   "execution_count": 33,
   "metadata": {},
   "outputs": [
    {
     "data": {
      "text/plain": [
       "DataFrame[doc_id: string, text: string, document: array<struct<annotatorType:string,begin:int,end:int,result:string,metadata:map<string,string>,embeddings:array<float>>>, sentence: array<struct<annotatorType:string,begin:int,end:int,result:string,metadata:map<string,string>,embeddings:array<float>>>, raw_token: array<struct<annotatorType:string,begin:int,end:int,result:string,metadata:map<string,string>,embeddings:array<float>>>, token: array<struct<annotatorType:string,begin:int,end:int,result:string,metadata:map<string,string>,embeddings:array<float>>>, embeddings: array<struct<annotatorType:string,begin:int,end:int,result:string,metadata:map<string,string>,embeddings:array<float>>>, ner_jsl: array<struct<annotatorType:string,begin:int,end:int,result:string,metadata:map<string,string>,embeddings:array<float>>>, ner_drug: array<struct<annotatorType:string,begin:int,end:int,result:string,metadata:map<string,string>,embeddings:array<float>>>, chunk_jsl: array<struct<annotatorType:string,begin:int,end:int,result:string,metadata:map<string,string>,embeddings:array<float>>>, chunk_drug: array<struct<annotatorType:string,begin:int,end:int,result:string,metadata:map<string,string>,embeddings:array<float>>>, chunk_embs_jsl: array<struct<annotatorType:string,begin:int,end:int,result:string,metadata:map<string,string>,embeddings:array<float>>>, chunk_embs_drug: array<struct<annotatorType:string,begin:int,end:int,result:string,metadata:map<string,string>,embeddings:array<float>>>, icd10cm_resolution: array<struct<annotatorType:string,begin:int,end:int,result:string,metadata:map<string,string>,embeddings:array<float>>>, rxnorm_resolution: array<struct<annotatorType:string,begin:int,end:int,result:string,metadata:map<string,string>,embeddings:array<float>>>]"
      ]
     },
     "execution_count": 33,
     "metadata": {},
     "output_type": "execute_result"
    }
   ],
   "source": [
    "output_drug.cache()"
   ]
  },
  {
   "cell_type": "code",
   "execution_count": null,
   "metadata": {},
   "outputs": [],
   "source": [
    "# output.write.mode(\"overwrite\").save(\"temp1\")"
   ]
  },
  {
   "cell_type": "code",
   "execution_count": null,
   "metadata": {},
   "outputs": [],
   "source": [
    "## save this data on disk - and load it again to make it faster"
   ]
  },
  {
   "cell_type": "code",
   "execution_count": null,
   "metadata": {},
   "outputs": [],
   "source": [
    "# output = spark.read.load(\"temp1\")"
   ]
  },
  {
   "cell_type": "markdown",
   "metadata": {},
   "source": [
    "### Analysis of outputs"
   ]
  },
  {
   "cell_type": "code",
   "execution_count": 34,
   "metadata": {},
   "outputs": [],
   "source": [
    "icd10cm_analysis = quick_metadata_analysis(output_icd, 'doc_id', 'chunk_jsl',['icd10cm_resolution'])"
   ]
  },
  {
   "cell_type": "code",
   "execution_count": 35,
   "metadata": {},
   "outputs": [],
   "source": [
    "rxnorm_analysis = \\\n",
    "quick_metadata_analysis(output_drug, 'doc_id', 'chunk_drug',['rxnorm_resolution'])"
   ]
  },
  {
   "cell_type": "markdown",
   "metadata": {},
   "source": [
    "#### Selected documents where confidence score was > 0.6 for icd10 and rxnorm"
   ]
  },
  {
   "cell_type": "code",
   "execution_count": 36,
   "metadata": {},
   "outputs": [],
   "source": [
    "icd_sel = icd10cm_analysis.filter(icd10cm_analysis.icd10cm_conf>0.6)"
   ]
  },
  {
   "cell_type": "code",
   "execution_count": 37,
   "metadata": {},
   "outputs": [
    {
     "data": {
      "text/plain": [
       "DataFrame[coords: string, chunk: string, entity: string, icd10cm_conf: float, icd10cm_opts: array<struct<0:string,1:string>>]"
      ]
     },
     "execution_count": 37,
     "metadata": {},
     "output_type": "execute_result"
    }
   ],
   "source": [
    "icd_sel.cache()"
   ]
  },
  {
   "cell_type": "code",
   "execution_count": 38,
   "metadata": {},
   "outputs": [],
   "source": [
    "rxnorm_sel = rxnorm_analysis.filter(rxnorm_analysis.rxnorm_conf>0.6)"
   ]
  },
  {
   "cell_type": "code",
   "execution_count": 39,
   "metadata": {},
   "outputs": [
    {
     "data": {
      "text/plain": [
       "DataFrame[coords: string, chunk: string, entity: string, rxnorm_conf: float, rxnorm_opts: array<struct<0:string,1:string>>]"
      ]
     },
     "execution_count": 39,
     "metadata": {},
     "output_type": "execute_result"
    }
   ],
   "source": [
    "rxnorm_sel.cache()"
   ]
  },
  {
   "cell_type": "code",
   "execution_count": 40,
   "metadata": {},
   "outputs": [],
   "source": [
    "# rxnorm_sel_c = rxnorm_sel.collect()"
   ]
  },
  {
   "cell_type": "code",
   "execution_count": 41,
   "metadata": {},
   "outputs": [],
   "source": [
    "# icd_sel_c = icd_sel.collect()"
   ]
  },
  {
   "cell_type": "markdown",
   "metadata": {},
   "source": [
    "### Convert to Pandas Dataframe"
   ]
  },
  {
   "cell_type": "code",
   "execution_count": 42,
   "metadata": {},
   "outputs": [],
   "source": [
    "import pandas as pd"
   ]
  },
  {
   "cell_type": "code",
   "execution_count": 43,
   "metadata": {},
   "outputs": [],
   "source": [
    "pd.set_option('display.max_colwidth', 250)\n",
    "pd.set_option('display.max_rows', 500)"
   ]
  },
  {
   "cell_type": "markdown",
   "metadata": {},
   "source": [
    "#### Unable to store all data from spark dataframe into pandas dataframe; tried parquet, collect(), cache(), setting up spark driver memory, executive memeory..."
   ]
  },
  {
   "cell_type": "code",
   "execution_count": 52,
   "metadata": {},
   "outputs": [],
   "source": [
    "icd_sel     = icd_sel.limit(100)\n",
    "icd_sel_pdf = icd_sel.toPandas()"
   ]
  },
  {
   "cell_type": "code",
   "execution_count": 50,
   "metadata": {},
   "outputs": [],
   "source": [
    "rxnorm_sel     = rxnorm_sel.limit(100)\n",
    "rxnorm_sel_pdf = rxnorm_sel.toPandas()"
   ]
  },
  {
   "cell_type": "markdown",
   "metadata": {},
   "source": [
    "### Visualize the output"
   ]
  },
  {
   "cell_type": "code",
   "execution_count": 53,
   "metadata": {},
   "outputs": [
    {
     "data": {
      "text/html": [
       "<div>\n",
       "<style scoped>\n",
       "    .dataframe tbody tr th:only-of-type {\n",
       "        vertical-align: middle;\n",
       "    }\n",
       "\n",
       "    .dataframe tbody tr th {\n",
       "        vertical-align: top;\n",
       "    }\n",
       "\n",
       "    .dataframe thead th {\n",
       "        text-align: right;\n",
       "    }\n",
       "</style>\n",
       "<table border=\"1\" class=\"dataframe\">\n",
       "  <thead>\n",
       "    <tr style=\"text-align: right;\">\n",
       "      <th></th>\n",
       "      <th>coords</th>\n",
       "      <th>chunk</th>\n",
       "      <th>entity</th>\n",
       "      <th>icd10cm_conf</th>\n",
       "      <th>icd10cm_opts</th>\n",
       "    </tr>\n",
       "  </thead>\n",
       "  <tbody>\n",
       "    <tr>\n",
       "      <th>0</th>\n",
       "      <td>0jxuedd8::343::370</td>\n",
       "      <td>DCDA twin gestations and HDP</td>\n",
       "      <td>Diagnosis</td>\n",
       "      <td>0.9644</td>\n",
       "      <td>[(F842, Rett's syndrome), (L0882, Omphalitis not of newborn), (E031, Congenital hypothyroidism without goiter), (N6489, Other specified disorders of breast), (N471, Phimosis)]</td>\n",
       "    </tr>\n",
       "    <tr>\n",
       "      <th>1</th>\n",
       "      <td>0jxuedd8::524::526</td>\n",
       "      <td>HDP</td>\n",
       "      <td>Diagnosis</td>\n",
       "      <td>0.6274</td>\n",
       "      <td>[(E7141, Primary carnitine deficiency), (D593, Hemolytic-uremic syndrome), (E876, Hypokalemia), (E222, Syndrome of inappropriate secretion of antidiuretic hormone), (F40210, Arachnophobia)]</td>\n",
       "    </tr>\n",
       "    <tr>\n",
       "      <th>2</th>\n",
       "      <td>0jxuedd8::587::589</td>\n",
       "      <td>HDP</td>\n",
       "      <td>Diagnosis</td>\n",
       "      <td>0.6274</td>\n",
       "      <td>[(E7141, Primary carnitine deficiency), (D593, Hemolytic-uremic syndrome), (E876, Hypokalemia), (E222, Syndrome of inappropriate secretion of antidiuretic hormone), (F40210, Arachnophobia)]</td>\n",
       "    </tr>\n",
       "    <tr>\n",
       "      <th>3</th>\n",
       "      <td>0jxuedd8::790::792</td>\n",
       "      <td>HDP</td>\n",
       "      <td>Diagnosis</td>\n",
       "      <td>0.6274</td>\n",
       "      <td>[(E7141, Primary carnitine deficiency), (D593, Hemolytic-uremic syndrome), (E876, Hypokalemia), (E222, Syndrome of inappropriate secretion of antidiuretic hormone), (F40210, Arachnophobia)]</td>\n",
       "    </tr>\n",
       "    <tr>\n",
       "      <th>4</th>\n",
       "      <td>0jxuedd8::985::993</td>\n",
       "      <td>early HDP</td>\n",
       "      <td>Diagnosis</td>\n",
       "      <td>0.7483</td>\n",
       "      <td>[(G300, Alzheimer's disease with early onset), (E301, Precocious puberty), (F840, Autistic disorder), (G301, Alzheimer's disease with late onset), (G650, Sequelae of Guillain-Barre syndrome)]</td>\n",
       "    </tr>\n",
       "    <tr>\n",
       "      <th>5</th>\n",
       "      <td>28ci6cfx::1767::1782</td>\n",
       "      <td>renal impairment</td>\n",
       "      <td>Diagnosis</td>\n",
       "      <td>0.8962</td>\n",
       "      <td>[(N289, Disorder of kidney and ureter, unspecified), (N189, Chronic kidney disease, unspecified), (N059, Unspecified nephritic syndrome with unspecified morphologic changes), (N250, Renal osteodystrophy), (N186, End stage renal disease)]</td>\n",
       "    </tr>\n",
       "    <tr>\n",
       "      <th>6</th>\n",
       "      <td>2ivzvkw8::258::265</td>\n",
       "      <td>aneurysm</td>\n",
       "      <td>Diagnosis</td>\n",
       "      <td>0.8604</td>\n",
       "      <td>[(I729, Aneurysm of unspecified site), (I723, Aneurysm of iliac artery), (I253, Aneurysm of heart), (I719, Aortic aneurysm of unspecified site, without rupture), (I2541, Coronary artery aneurysm)]</td>\n",
       "    </tr>\n",
       "    <tr>\n",
       "      <th>7</th>\n",
       "      <td>3g2u0i71::50::76</td>\n",
       "      <td>Peripheral Arterial Disease</td>\n",
       "      <td>Diagnosis</td>\n",
       "      <td>0.7399</td>\n",
       "      <td>[(I739, Peripheral vascular disease, unspecified), (I7389, Other specified peripheral vascular diseases), (I798, Other disorders of arteries, arterioles and capillaries in diseases classified elsewhere), (I7789, Other specified disorders of arter...</td>\n",
       "    </tr>\n",
       "    <tr>\n",
       "      <th>8</th>\n",
       "      <td>3g2u0i71::408::410</td>\n",
       "      <td>PAD</td>\n",
       "      <td>Diagnosis</td>\n",
       "      <td>1.0000</td>\n",
       "      <td>[(I739, Peripheral vascular disease, unspecified), (I2510, Atherosclerotic heart disease of native coronary artery without angina pectoris), (I25790, Atherosclerosis of other coronary artery bypass graft(s) with unstable angina pectoris), (I25799...</td>\n",
       "    </tr>\n",
       "    <tr>\n",
       "      <th>9</th>\n",
       "      <td>3vthgenz::1167::1186</td>\n",
       "      <td>clotting were sepsis</td>\n",
       "      <td>Diagnosis</td>\n",
       "      <td>0.9031</td>\n",
       "      <td>[(A4189, Other specified sepsis), (A267, Erysipelothrix sepsis), (A327, Listerial sepsis), (A227, Anthrax sepsis), (A427, Actinomycotic sepsis)]</td>\n",
       "    </tr>\n",
       "  </tbody>\n",
       "</table>\n",
       "</div>"
      ],
      "text/plain": [
       "                 coords                         chunk     entity  \\\n",
       "0    0jxuedd8::343::370  DCDA twin gestations and HDP  Diagnosis   \n",
       "1    0jxuedd8::524::526                           HDP  Diagnosis   \n",
       "2    0jxuedd8::587::589                           HDP  Diagnosis   \n",
       "3    0jxuedd8::790::792                           HDP  Diagnosis   \n",
       "4    0jxuedd8::985::993                     early HDP  Diagnosis   \n",
       "5  28ci6cfx::1767::1782              renal impairment  Diagnosis   \n",
       "6    2ivzvkw8::258::265                      aneurysm  Diagnosis   \n",
       "7      3g2u0i71::50::76   Peripheral Arterial Disease  Diagnosis   \n",
       "8    3g2u0i71::408::410                           PAD  Diagnosis   \n",
       "9  3vthgenz::1167::1186          clotting were sepsis  Diagnosis   \n",
       "\n",
       "   icd10cm_conf  \\\n",
       "0        0.9644   \n",
       "1        0.6274   \n",
       "2        0.6274   \n",
       "3        0.6274   \n",
       "4        0.7483   \n",
       "5        0.8962   \n",
       "6        0.8604   \n",
       "7        0.7399   \n",
       "8        1.0000   \n",
       "9        0.9031   \n",
       "\n",
       "                                                                                                                                                                                                                                                icd10cm_opts  \n",
       "0                                                                            [(F842, Rett's syndrome), (L0882, Omphalitis not of newborn), (E031, Congenital hypothyroidism without goiter), (N6489, Other specified disorders of breast), (N471, Phimosis)]  \n",
       "1                                                              [(E7141, Primary carnitine deficiency), (D593, Hemolytic-uremic syndrome), (E876, Hypokalemia), (E222, Syndrome of inappropriate secretion of antidiuretic hormone), (F40210, Arachnophobia)]  \n",
       "2                                                              [(E7141, Primary carnitine deficiency), (D593, Hemolytic-uremic syndrome), (E876, Hypokalemia), (E222, Syndrome of inappropriate secretion of antidiuretic hormone), (F40210, Arachnophobia)]  \n",
       "3                                                              [(E7141, Primary carnitine deficiency), (D593, Hemolytic-uremic syndrome), (E876, Hypokalemia), (E222, Syndrome of inappropriate secretion of antidiuretic hormone), (F40210, Arachnophobia)]  \n",
       "4                                                            [(G300, Alzheimer's disease with early onset), (E301, Precocious puberty), (F840, Autistic disorder), (G301, Alzheimer's disease with late onset), (G650, Sequelae of Guillain-Barre syndrome)]  \n",
       "5              [(N289, Disorder of kidney and ureter, unspecified), (N189, Chronic kidney disease, unspecified), (N059, Unspecified nephritic syndrome with unspecified morphologic changes), (N250, Renal osteodystrophy), (N186, End stage renal disease)]  \n",
       "6                                                       [(I729, Aneurysm of unspecified site), (I723, Aneurysm of iliac artery), (I253, Aneurysm of heart), (I719, Aortic aneurysm of unspecified site, without rupture), (I2541, Coronary artery aneurysm)]  \n",
       "7  [(I739, Peripheral vascular disease, unspecified), (I7389, Other specified peripheral vascular diseases), (I798, Other disorders of arteries, arterioles and capillaries in diseases classified elsewhere), (I7789, Other specified disorders of arter...  \n",
       "8  [(I739, Peripheral vascular disease, unspecified), (I2510, Atherosclerotic heart disease of native coronary artery without angina pectoris), (I25790, Atherosclerosis of other coronary artery bypass graft(s) with unstable angina pectoris), (I25799...  \n",
       "9                                                                                                           [(A4189, Other specified sepsis), (A267, Erysipelothrix sepsis), (A327, Listerial sepsis), (A227, Anthrax sepsis), (A427, Actinomycotic sepsis)]  "
      ]
     },
     "execution_count": 53,
     "metadata": {},
     "output_type": "execute_result"
    }
   ],
   "source": [
    "icd_sel_pdf.head(10)"
   ]
  },
  {
   "cell_type": "code",
   "execution_count": 51,
   "metadata": {},
   "outputs": [
    {
     "data": {
      "text/html": [
       "<div>\n",
       "<style scoped>\n",
       "    .dataframe tbody tr th:only-of-type {\n",
       "        vertical-align: middle;\n",
       "    }\n",
       "\n",
       "    .dataframe tbody tr th {\n",
       "        vertical-align: top;\n",
       "    }\n",
       "\n",
       "    .dataframe thead th {\n",
       "        text-align: right;\n",
       "    }\n",
       "</style>\n",
       "<table border=\"1\" class=\"dataframe\">\n",
       "  <thead>\n",
       "    <tr style=\"text-align: right;\">\n",
       "      <th></th>\n",
       "      <th>coords</th>\n",
       "      <th>chunk</th>\n",
       "      <th>entity</th>\n",
       "      <th>rxnorm_conf</th>\n",
       "      <th>rxnorm_opts</th>\n",
       "    </tr>\n",
       "  </thead>\n",
       "  <tbody>\n",
       "    <tr>\n",
       "      <th>0</th>\n",
       "      <td>09c5hw3j::320::325</td>\n",
       "      <td>serine</td>\n",
       "      <td>DrugChem</td>\n",
       "      <td>0.9898</td>\n",
       "      <td>[(198931, Serine 600 MG Oral Capsule), (198925, Threonine 500 MG Oral Capsule), (199236, Threonine 500 MG Oral Tablet), (198923, Aspartic Acid 600 MG Oral Capsule), (432917, ethyl cysteine 150 MG Oral Tablet)]</td>\n",
       "    </tr>\n",
       "    <tr>\n",
       "      <th>1</th>\n",
       "      <td>0hdi3izd::129::135</td>\n",
       "      <td>acetone</td>\n",
       "      <td>DrugChem</td>\n",
       "      <td>0.6342</td>\n",
       "      <td>[(308569, Acetone 46 MG/ML Topical Solution), (616795, Acetone 60 MG/ML / Ethanol 0.15 ML/ML Medicated Shampoo), (310418, Formaldehyde 77 MG/ML Topical Solution), (244646, Formaldehyde 40 MG/ML Topical Solution), (200297, Ethanol 7 ML/ML Topical ...</td>\n",
       "    </tr>\n",
       "    <tr>\n",
       "      <th>2</th>\n",
       "      <td>0hdi3izd::356::366</td>\n",
       "      <td>isopropanol</td>\n",
       "      <td>DrugChem</td>\n",
       "      <td>0.7249</td>\n",
       "      <td>[(308569, Acetone 46 MG/ML Topical Solution), (616795, Acetone 60 MG/ML / Ethanol 0.15 ML/ML Medicated Shampoo), (307802, Ethanol 7 ML/ML Topical Solution), (250678, Ethanol 7 ML/ML Topical Lotion), (248180, Ethanol 1 ML/ML Topical Solution)]</td>\n",
       "    </tr>\n",
       "    <tr>\n",
       "      <th>3</th>\n",
       "      <td>0hdi3izd::379::385</td>\n",
       "      <td>acetone</td>\n",
       "      <td>DrugChem</td>\n",
       "      <td>0.6342</td>\n",
       "      <td>[(308569, Acetone 46 MG/ML Topical Solution), (616795, Acetone 60 MG/ML / Ethanol 0.15 ML/ML Medicated Shampoo), (310418, Formaldehyde 77 MG/ML Topical Solution), (244646, Formaldehyde 40 MG/ML Topical Solution), (200297, Ethanol 7 ML/ML Topical ...</td>\n",
       "    </tr>\n",
       "    <tr>\n",
       "      <th>4</th>\n",
       "      <td>8j7wjixc::952::977</td>\n",
       "      <td>clomiphene and toremiphene</td>\n",
       "      <td>DrugChem</td>\n",
       "      <td>0.7092</td>\n",
       "      <td>[(1093060, Clomiphene Citrate 50 MG Oral Tablet), (432632, Lynestrenol 5 MG Oral Tablet), (247495, Buserelin 1 MG/ML Injectable Solution), (250627, nomegestrol 5 MG Oral Tablet), (246108, Chlormadinone 5 MG Oral Tablet)]</td>\n",
       "    </tr>\n",
       "    <tr>\n",
       "      <th>5</th>\n",
       "      <td>8speml4j::594::599</td>\n",
       "      <td>serine</td>\n",
       "      <td>DrugChem</td>\n",
       "      <td>0.9898</td>\n",
       "      <td>[(198931, Serine 600 MG Oral Capsule), (198925, Threonine 500 MG Oral Capsule), (199236, Threonine 500 MG Oral Tablet), (198923, Aspartic Acid 600 MG Oral Capsule), (432917, ethyl cysteine 150 MG Oral Tablet)]</td>\n",
       "    </tr>\n",
       "    <tr>\n",
       "      <th>6</th>\n",
       "      <td>9fbufpxz::1158::1167</td>\n",
       "      <td>phosphorus</td>\n",
       "      <td>DrugChem</td>\n",
       "      <td>0.9950</td>\n",
       "      <td>[(410881, calcium phosphate 28.7 MG / Phosphorus 53.3 MG Oral Capsule), (309003, Carbon Dioxide 9 % / Nitrogen 91 % Gas for Inhalation), (309001, Carbon Dioxide 5 % / Nitrogen 95 % Gas for Inhalation), (348459, Nitrogen 70 % / Oxygen 30 % Gas for...</td>\n",
       "    </tr>\n",
       "    <tr>\n",
       "      <th>7</th>\n",
       "      <td>9fbufpxz::1260::1269</td>\n",
       "      <td>phosphorus</td>\n",
       "      <td>DrugChem</td>\n",
       "      <td>0.9950</td>\n",
       "      <td>[(410881, calcium phosphate 28.7 MG / Phosphorus 53.3 MG Oral Capsule), (309003, Carbon Dioxide 9 % / Nitrogen 91 % Gas for Inhalation), (309001, Carbon Dioxide 5 % / Nitrogen 95 % Gas for Inhalation), (348459, Nitrogen 70 % / Oxygen 30 % Gas for...</td>\n",
       "    </tr>\n",
       "    <tr>\n",
       "      <th>8</th>\n",
       "      <td>bpw2m5fb::698::707</td>\n",
       "      <td>creatinine</td>\n",
       "      <td>DrugChem</td>\n",
       "      <td>0.9996</td>\n",
       "      <td>[(849628, Creatinine 800 MG Oral Capsule), (252180, Urea 10 MG/ML Topical Lotion), (424168, Urea 30 MG/ML Topical Lotion), (251705, Urea 20 MG/ML Topical Lotion), (245052, Urea 200 MG/ML Oral Solution)]</td>\n",
       "    </tr>\n",
       "    <tr>\n",
       "      <th>9</th>\n",
       "      <td>dj5ia9l8::811::834</td>\n",
       "      <td>benzene and formaldehyde</td>\n",
       "      <td>DrugChem</td>\n",
       "      <td>0.9560</td>\n",
       "      <td>[(315104, Formaldehyde 10 MG/ML / Isopropyl Alcohol 8.7 ML/ML Topical Solution), (348346, dichlorodifluoromethane 100 % Gas for Inhalation), (1249574, chlorine dioxide 1 MG/ML Topical Solution), (1249581, chlorine dioxide 10 MG/ML Topical Solutio...</td>\n",
       "    </tr>\n",
       "    <tr>\n",
       "      <th>10</th>\n",
       "      <td>nze1am9r::981::989</td>\n",
       "      <td>galactose</td>\n",
       "      <td>DrugChem</td>\n",
       "      <td>0.9930</td>\n",
       "      <td>[(755768, Galactose 147 MG/ML Oral Solution), (846927, Mannose 300 MG Oral Capsule), (672081, Xylose 100 MG/ML Oral Solution), (237537, invert sugar 50 MG/ML Injectable Solution), (200141, Glucose 50 MG/ML Oral Solution)]</td>\n",
       "    </tr>\n",
       "    <tr>\n",
       "      <th>11</th>\n",
       "      <td>stva2vxl::1560::1569</td>\n",
       "      <td>Duloxetine</td>\n",
       "      <td>DrugChem</td>\n",
       "      <td>0.9692</td>\n",
       "      <td>[(542051, duloxetine 20 MG Oral Tablet), (351249, Escitalopram 5 MG Oral Tablet), (833147, Milnacipran hydrochloride 25 MG Oral Tablet), (410840, Milnacipran hydrochloride 25 MG Oral Capsule), (410839, Milnacipran hydrochloride 50 MG Oral Capsule)]</td>\n",
       "    </tr>\n",
       "    <tr>\n",
       "      <th>12</th>\n",
       "      <td>tmf5diov::720::728</td>\n",
       "      <td>histidine</td>\n",
       "      <td>DrugChem</td>\n",
       "      <td>0.6773</td>\n",
       "      <td>[(198927, Histidine 600 MG Oral Capsule), (240190, Histidine 40 MG / Zinc Sulfate 37 MG Oral Capsule), (755523, Arginine 10 MG/ML Oral Solution), (198925, Threonine 500 MG Oral Capsule), (252518, arginine aspartate 150 MG/ML Oral Solution)]</td>\n",
       "    </tr>\n",
       "  </tbody>\n",
       "</table>\n",
       "</div>"
      ],
      "text/plain": [
       "                  coords                       chunk    entity  rxnorm_conf  \\\n",
       "0     09c5hw3j::320::325                      serine  DrugChem       0.9898   \n",
       "1     0hdi3izd::129::135                     acetone  DrugChem       0.6342   \n",
       "2     0hdi3izd::356::366                 isopropanol  DrugChem       0.7249   \n",
       "3     0hdi3izd::379::385                     acetone  DrugChem       0.6342   \n",
       "4     8j7wjixc::952::977  clomiphene and toremiphene  DrugChem       0.7092   \n",
       "5     8speml4j::594::599                      serine  DrugChem       0.9898   \n",
       "6   9fbufpxz::1158::1167                  phosphorus  DrugChem       0.9950   \n",
       "7   9fbufpxz::1260::1269                  phosphorus  DrugChem       0.9950   \n",
       "8     bpw2m5fb::698::707                  creatinine  DrugChem       0.9996   \n",
       "9     dj5ia9l8::811::834    benzene and formaldehyde  DrugChem       0.9560   \n",
       "10    nze1am9r::981::989                   galactose  DrugChem       0.9930   \n",
       "11  stva2vxl::1560::1569                  Duloxetine  DrugChem       0.9692   \n",
       "12    tmf5diov::720::728                   histidine  DrugChem       0.6773   \n",
       "\n",
       "                                                                                                                                                                                                                                                  rxnorm_opts  \n",
       "0                                           [(198931, Serine 600 MG Oral Capsule), (198925, Threonine 500 MG Oral Capsule), (199236, Threonine 500 MG Oral Tablet), (198923, Aspartic Acid 600 MG Oral Capsule), (432917, ethyl cysteine 150 MG Oral Tablet)]  \n",
       "1   [(308569, Acetone 46 MG/ML Topical Solution), (616795, Acetone 60 MG/ML / Ethanol 0.15 ML/ML Medicated Shampoo), (310418, Formaldehyde 77 MG/ML Topical Solution), (244646, Formaldehyde 40 MG/ML Topical Solution), (200297, Ethanol 7 ML/ML Topical ...  \n",
       "2          [(308569, Acetone 46 MG/ML Topical Solution), (616795, Acetone 60 MG/ML / Ethanol 0.15 ML/ML Medicated Shampoo), (307802, Ethanol 7 ML/ML Topical Solution), (250678, Ethanol 7 ML/ML Topical Lotion), (248180, Ethanol 1 ML/ML Topical Solution)]  \n",
       "3   [(308569, Acetone 46 MG/ML Topical Solution), (616795, Acetone 60 MG/ML / Ethanol 0.15 ML/ML Medicated Shampoo), (310418, Formaldehyde 77 MG/ML Topical Solution), (244646, Formaldehyde 40 MG/ML Topical Solution), (200297, Ethanol 7 ML/ML Topical ...  \n",
       "4                                [(1093060, Clomiphene Citrate 50 MG Oral Tablet), (432632, Lynestrenol 5 MG Oral Tablet), (247495, Buserelin 1 MG/ML Injectable Solution), (250627, nomegestrol 5 MG Oral Tablet), (246108, Chlormadinone 5 MG Oral Tablet)]  \n",
       "5                                           [(198931, Serine 600 MG Oral Capsule), (198925, Threonine 500 MG Oral Capsule), (199236, Threonine 500 MG Oral Tablet), (198923, Aspartic Acid 600 MG Oral Capsule), (432917, ethyl cysteine 150 MG Oral Tablet)]  \n",
       "6   [(410881, calcium phosphate 28.7 MG / Phosphorus 53.3 MG Oral Capsule), (309003, Carbon Dioxide 9 % / Nitrogen 91 % Gas for Inhalation), (309001, Carbon Dioxide 5 % / Nitrogen 95 % Gas for Inhalation), (348459, Nitrogen 70 % / Oxygen 30 % Gas for...  \n",
       "7   [(410881, calcium phosphate 28.7 MG / Phosphorus 53.3 MG Oral Capsule), (309003, Carbon Dioxide 9 % / Nitrogen 91 % Gas for Inhalation), (309001, Carbon Dioxide 5 % / Nitrogen 95 % Gas for Inhalation), (348459, Nitrogen 70 % / Oxygen 30 % Gas for...  \n",
       "8                                                  [(849628, Creatinine 800 MG Oral Capsule), (252180, Urea 10 MG/ML Topical Lotion), (424168, Urea 30 MG/ML Topical Lotion), (251705, Urea 20 MG/ML Topical Lotion), (245052, Urea 200 MG/ML Oral Solution)]  \n",
       "9   [(315104, Formaldehyde 10 MG/ML / Isopropyl Alcohol 8.7 ML/ML Topical Solution), (348346, dichlorodifluoromethane 100 % Gas for Inhalation), (1249574, chlorine dioxide 1 MG/ML Topical Solution), (1249581, chlorine dioxide 10 MG/ML Topical Solutio...  \n",
       "10                              [(755768, Galactose 147 MG/ML Oral Solution), (846927, Mannose 300 MG Oral Capsule), (672081, Xylose 100 MG/ML Oral Solution), (237537, invert sugar 50 MG/ML Injectable Solution), (200141, Glucose 50 MG/ML Oral Solution)]  \n",
       "11   [(542051, duloxetine 20 MG Oral Tablet), (351249, Escitalopram 5 MG Oral Tablet), (833147, Milnacipran hydrochloride 25 MG Oral Tablet), (410840, Milnacipran hydrochloride 25 MG Oral Capsule), (410839, Milnacipran hydrochloride 50 MG Oral Capsule)]  \n",
       "12           [(198927, Histidine 600 MG Oral Capsule), (240190, Histidine 40 MG / Zinc Sulfate 37 MG Oral Capsule), (755523, Arginine 10 MG/ML Oral Solution), (198925, Threonine 500 MG Oral Capsule), (252518, arginine aspartate 150 MG/ML Oral Solution)]  "
      ]
     },
     "execution_count": 51,
     "metadata": {},
     "output_type": "execute_result"
    }
   ],
   "source": [
    "rxnorm_sel_pdf.head(12)"
   ]
  }
 ],
 "metadata": {
  "kernelspec": {
   "display_name": "Python 3",
   "language": "python",
   "name": "python3"
  },
  "language_info": {
   "codemirror_mode": {
    "name": "ipython",
    "version": 3
   },
   "file_extension": ".py",
   "mimetype": "text/x-python",
   "name": "python",
   "nbconvert_exporter": "python",
   "pygments_lexer": "ipython3",
   "version": "3.7.1"
  }
 },
 "nbformat": 4,
 "nbformat_minor": 2
}
